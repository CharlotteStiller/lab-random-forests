{
 "cells": [
  {
   "cell_type": "markdown",
   "id": "438bf20f",
   "metadata": {},
   "source": [
    "# Lab | Random Forests"
   ]
  },
  {
   "cell_type": "markdown",
   "id": "c2bbe11c",
   "metadata": {},
   "source": [
    "- For this lab, you will be using the CSV files provided in the files_for_lab folder."
   ]
  },
  {
   "cell_type": "markdown",
   "id": "40546e90",
   "metadata": {},
   "source": [
    "### 1. Apply the Random Forests algorithm but this time only by upscaling the data using SMOTE."
   ]
  },
  {
   "cell_type": "code",
   "execution_count": null,
   "id": "64274b33",
   "metadata": {},
   "outputs": [],
   "source": []
  },
  {
   "cell_type": "markdown",
   "id": "9100309b",
   "metadata": {},
   "source": [
    "### 2. Note that since SMOTE works on numerical data only, we will first encode the categorical variables in this case."
   ]
  },
  {
   "cell_type": "code",
   "execution_count": null,
   "id": "0fedb9b1",
   "metadata": {},
   "outputs": [],
   "source": []
  }
 ],
 "metadata": {
  "kernelspec": {
   "display_name": "ironhac",
   "language": "python",
   "name": "ironhac"
  },
  "language_info": {
   "codemirror_mode": {
    "name": "ipython",
    "version": 3
   },
   "file_extension": ".py",
   "mimetype": "text/x-python",
   "name": "python",
   "nbconvert_exporter": "python",
   "pygments_lexer": "ipython3",
   "version": "3.8.2"
  }
 },
 "nbformat": 4,
 "nbformat_minor": 5
}
